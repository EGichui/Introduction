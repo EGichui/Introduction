{
 "cells": [
  {
   "cell_type": "code",
   "execution_count": 1,
   "id": "f867f90d-b9c2-40ae-a0d8-181407878422",
   "metadata": {},
   "outputs": [
    {
     "name": "stdin",
     "output_type": "stream",
     "text": [
      "Enter the desired senctence  hallow i love hallow hallow\n"
     ]
    },
    {
     "name": "stdout",
     "output_type": "stream",
     "text": [
      "{'hallow': 3, 'i': 1, 'love': 1}\n"
     ]
    }
   ],
   "source": [
    "def main():\n",
    "    sentence=input(\"Enter the desired senctence \")\n",
    "    words=sentence.split()\n",
    "    word_frequency={}\n",
    "    for word in words:\n",
    "        word_frequency[word]=word_frequency.get(word,0)+1\n",
    "\n",
    "    print(word_frequency)\n",
    "\n",
    "if __name__==\"__main__\":\n",
    "    main()"
   ]
  },
  {
   "cell_type": "code",
   "execution_count": null,
   "id": "431cb1aa-b39c-43e9-b65a-1130391813ca",
   "metadata": {},
   "outputs": [],
   "source": [
    "name=input(\"Enter your name  \")"
   ]
  },
  {
   "cell_type": "code",
   "execution_count": null,
   "id": "0026786f-767b-461a-9979-e6b6c11212e7",
   "metadata": {},
   "outputs": [],
   "source": []
  }
 ],
 "metadata": {
  "kernelspec": {
   "display_name": "Python 3 (ipykernel)",
   "language": "python",
   "name": "python3"
  },
  "language_info": {
   "codemirror_mode": {
    "name": "ipython",
    "version": 3
   },
   "file_extension": ".py",
   "mimetype": "text/x-python",
   "name": "python",
   "nbconvert_exporter": "python",
   "pygments_lexer": "ipython3",
   "version": "3.12.7"
  }
 },
 "nbformat": 4,
 "nbformat_minor": 5
}

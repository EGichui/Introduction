{
 "cells": [
  {
   "cell_type": "markdown",
   "id": "a5c15b1d-26ae-4cfd-bfd6-ba68ab362293",
   "metadata": {},
   "source": [
    "cars=[1,2,3,4]\n"
   ]
  },
  {
   "cell_type": "code",
   "execution_count": null,
   "id": "50bd19b8-e8cd-4060-af8e-e994d8144ee5",
   "metadata": {},
   "outputs": [],
   "source": [
    "#my name defined"
   ]
  },
  {
   "cell_type": "code",
   "execution_count": 3,
   "id": "7cb429b5-7fa7-4f73-b10e-89ff5ecc733d",
   "metadata": {},
   "outputs": [
    {
     "data": {
      "text/plain": [
       "(1, 2, 3)"
      ]
     },
     "execution_count": 3,
     "metadata": {},
     "output_type": "execute_result"
    }
   ],
   "source": [
    "name=(1,2,3)\n",
    "name\n",
    "\n"
   ]
  },
  {
   "cell_type": "code",
   "execution_count": 3,
   "id": "227cceff-14b9-4161-ad74-4e31dc43616b",
   "metadata": {},
   "outputs": [],
   "source": [
    "cars=[\"Toyota\",\"isuzu\",\"mitsubishi\",\"tesla\"]"
   ]
  },
  {
   "cell_type": "code",
   "execution_count": 12,
   "id": "6adcaffe-95f8-40fb-8ca2-2909b44d3d26",
   "metadata": {},
   "outputs": [
    {
     "name": "stdout",
     "output_type": "stream",
     "text": [
      "my first car make was Mitsubishi\n"
     ]
    }
   ],
   "source": [
    "print (f\"my first car make was {cars[2].title()}\")"
   ]
  },
  {
   "cell_type": "markdown",
   "id": "c7589a9b-d5c3-47dd-b8d8-b80895a1f270",
   "metadata": {},
   "source": [
    "Changing items in a list"
   ]
  },
  {
   "cell_type": "code",
   "execution_count": 13,
   "id": "84a5dd88-4b17-4335-b1f1-845850743311",
   "metadata": {},
   "outputs": [
    {
     "name": "stdout",
     "output_type": "stream",
     "text": [
      "['Toyota', 'isuzu', 'mitsubishi', 'Leyland']\n"
     ]
    }
   ],
   "source": [
    "cars[-1]=\"Leyland\"\n",
    "print (cars)"
   ]
  },
  {
   "cell_type": "markdown",
   "id": "92ecda90-5290-4354-9d24-ffc920c2d498",
   "metadata": {},
   "source": [
    "append function to add items at the end of a list"
   ]
  },
  {
   "cell_type": "code",
   "execution_count": 15,
   "id": "867adf5b-5e2c-4262-9813-ab2d10e3c6a1",
   "metadata": {},
   "outputs": [
    {
     "name": "stdout",
     "output_type": "stream",
     "text": [
      "['Toyota', 'isuzu', 'mitsubishi', 'Leyland', 'Tesla']\n"
     ]
    }
   ],
   "source": [
    "cars .append(\"Tesla\")\n",
    "print (cars)"
   ]
  },
  {
   "cell_type": "code",
   "execution_count": 3,
   "id": "cba1961c-1151-49f9-babf-a1d5ef18bec3",
   "metadata": {},
   "outputs": [
    {
     "name": "stdout",
     "output_type": "stream",
     "text": [
      "['honda', 'yamaha', 'suzuki']\n"
     ]
    }
   ],
   "source": [
    "motorbikes=[]\n",
    "motorbikes.append(\"honda\")\n",
    "motorbikes.append(\"yamaha\")\n",
    "motorbikes.append(\"suzuki\")\n",
    "print(motorbikes)\n"
   ]
  },
  {
   "cell_type": "code",
   "execution_count": 4,
   "id": "90ef8058-82c7-4e2c-995d-9166949e3156",
   "metadata": {},
   "outputs": [
    {
     "name": "stdout",
     "output_type": "stream",
     "text": [
      "['ducati', 'honda', 'yamaha', 'suzuki']\n"
     ]
    }
   ],
   "source": [
    "motorbikes.insert(0,\"ducati\")\n",
    "print (motorbikes)"
   ]
  },
  {
   "cell_type": "code",
   "execution_count": 31,
   "id": "2f3d00ed-6bff-4c04-9b99-2124c05bcd7e",
   "metadata": {},
   "outputs": [
    {
     "data": {
      "text/plain": [
       "['yamaha', 'suzuki', 'bugati']"
      ]
     },
     "execution_count": 31,
     "metadata": {},
     "output_type": "execute_result"
    }
   ],
   "source": [
    "del motorbikes[0]\n",
    "motorbikes"
   ]
  },
  {
   "cell_type": "code",
   "execution_count": 6,
   "id": "41267ca7-0945-49da-951b-915145215e0f",
   "metadata": {},
   "outputs": [
    {
     "name": "stdout",
     "output_type": "stream",
     "text": [
      "ducati\n",
      "honda\n",
      "yamaha\n",
      "suzuki\n"
     ]
    }
   ],
   "source": [
    "for bike in motorbikes:\n",
    "    print(bike)"
   ]
  },
  {
   "cell_type": "code",
   "execution_count": 9,
   "id": "b22d4cb2-4db3-4659-a11f-6fd3c5de3df3",
   "metadata": {},
   "outputs": [
    {
     "name": "stdout",
     "output_type": "stream",
     "text": [
      "Ducati is very powerful\n",
      "I cant wait to ride Ducati again.\n",
      "\n",
      "Honda is very powerful\n",
      "I cant wait to ride Honda again.\n",
      "\n",
      "Yamaha is very powerful\n",
      "I cant wait to ride Yamaha again.\n",
      "\n",
      "Suzuki is very powerful\n",
      "I cant wait to ride Suzuki again.\n",
      "\n",
      "Thankyou everyone for presenting!\n"
     ]
    }
   ],
   "source": [
    "for bike in motorbikes:\n",
    "       print (f'{bike.title()} is very powerful')\n",
    "       print(f'I cant wait to ride {bike.title()} again.\\n')#\\n creates a new line\n",
    "print('Thankyou everyone for presenting!')"
   ]
  },
  {
   "cell_type": "code",
   "execution_count": 13,
   "id": "15cb9438-4f2a-4586-a52f-bba8d4c7deea",
   "metadata": {},
   "outputs": [
    {
     "name": "stdout",
     "output_type": "stream",
     "text": [
      "[0, 2, 4, 6, 8]\n"
     ]
    }
   ],
   "source": [
    "numbers=list (range(0,10,2))\n",
    "print (numbers)"
   ]
  },
  {
   "cell_type": "code",
   "execution_count": 16,
   "id": "e152d6ab-751c-4e5e-8298-323ce4a627ee",
   "metadata": {},
   "outputs": [
    {
     "name": "stdout",
     "output_type": "stream",
     "text": [
      "[0, 1, 4, 9, 16, 25, 36, 49, 64, 81]\n"
     ]
    }
   ],
   "source": [
    "squarenumber=[]\n",
    "for number in range(10):\n",
    "    squarenumber.append(number**2)\n",
    "print(squarenumber)"
   ]
  },
  {
   "cell_type": "markdown",
   "id": "4f81ba91-61c7-4d48-9ebf-56c91445016f",
   "metadata": {},
   "source": [
    "slicing a list using indexes"
   ]
  },
  {
   "cell_type": "code",
   "execution_count": 21,
   "id": "3ac05440-97fe-4fb8-bea2-197eef1d4d20",
   "metadata": {},
   "outputs": [
    {
     "name": "stdout",
     "output_type": "stream",
     "text": [
      "[0, 2, 4, 6, 8]\n"
     ]
    }
   ],
   "source": [
    "specificnumbers=numbers[0:5]\n",
    "print(specificnumbers)"
   ]
  },
  {
   "cell_type": "code",
   "execution_count": 26,
   "id": "b760b34f-d3b9-4aad-b312-f2d71f9fb56e",
   "metadata": {},
   "outputs": [
    {
     "name": "stdout",
     "output_type": "stream",
     "text": [
      "0\n",
      "2\n",
      "4\n",
      "6\n",
      "8\n",
      "Top numbers are above:\n"
     ]
    }
   ],
   "source": [
    "for number in numbers[0:5]:\n",
    "    print(number)\n",
    "print(\"Top numbers are above:\")\n"
   ]
  },
  {
   "cell_type": "code",
   "execution_count": 38,
   "id": "0bd426ce-c7e6-4d9b-ad83-fa735bacd618",
   "metadata": {},
   "outputs": [
    {
     "name": "stdout",
     "output_type": "stream",
     "text": [
      "coffee is not in stock \n"
     ]
    }
   ],
   "source": [
    "available_items=[\"unga\",\"sugar\",\"milk\"]\n",
    "requested_items=[\"milk\",\"coffee\"]\n",
    "for needed_item  in requested_items:\n",
    "    if needed_item not in available_items:\n",
    "        print(f\"{needed_item} is not in stock \")\n",
    "    "
   ]
  },
  {
   "cell_type": "markdown",
   "id": "d3babe52-a12e-47c7-b1b0-de263ee44e3a",
   "metadata": {},
   "source": [
    "working woth dictionaries:"
   ]
  },
  {
   "cell_type": "code",
   "execution_count": 47,
   "id": "52c144ad-86bd-4928-996b-0b29dc3b10fb",
   "metadata": {},
   "outputs": [],
   "source": [
    "alien={\"name\":\"Kimberly\",\"language\":\"ZUlu\",\"points\":2}\n"
   ]
  },
  {
   "cell_type": "code",
   "execution_count": 48,
   "id": "a7daf505-1811-4720-8941-57f3daefa6e3",
   "metadata": {},
   "outputs": [
    {
     "name": "stdout",
     "output_type": "stream",
     "text": [
      "2\n"
     ]
    }
   ],
   "source": [
    "print (alien[\"points\"])"
   ]
  },
  {
   "cell_type": "code",
   "execution_count": 49,
   "id": "858717a7-e831-43a3-8a3d-15798684a71b",
   "metadata": {},
   "outputs": [
    {
     "data": {
      "text/plain": [
       "{'name': 'Kimberly', 'language': 'ZUlu', 'points': 2, 'gender': 'm'}"
      ]
     },
     "execution_count": 49,
     "metadata": {},
     "output_type": "execute_result"
    }
   ],
   "source": [
    "alien [\"gender\"]=\"m\"\n",
    "alien"
   ]
  },
  {
   "cell_type": "code",
   "execution_count": null,
   "id": "58ea99e6-0ae5-4d05-ad89-551aea539b61",
   "metadata": {},
   "outputs": [],
   "source": []
  }
 ],
 "metadata": {
  "kernelspec": {
   "display_name": "Python 3 (ipykernel)",
   "language": "python",
   "name": "python3"
  },
  "language_info": {
   "codemirror_mode": {
    "name": "ipython",
    "version": 3
   },
   "file_extension": ".py",
   "mimetype": "text/x-python",
   "name": "python",
   "nbconvert_exporter": "python",
   "pygments_lexer": "ipython3",
   "version": "3.12.7"
  }
 },
 "nbformat": 4,
 "nbformat_minor": 5
}
